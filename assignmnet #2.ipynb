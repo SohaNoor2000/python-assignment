{
 "cells": [
  {
   "cell_type": "code",
   "execution_count": null,
   "metadata": {},
   "outputs": [],
   "source": [
    "num1=int(input(\"enter marks of 1st subject (out of 20) \"))\n",
    "num2=int(input(\"enter marks of 2nd subject (out of 20) \"))\n",
    "num3=int(input(\"enter marks of 3rd subject (out of 20) \"))\n",
    "num4=int(input(\"enter marks of 4th subject (out of 20) \"))\n",
    "num5=int(input(\"enter marks of 5th subject (out of 20) \"))\n",
    "total_marks=num1+num2+num3+num4+num5\n",
    "if (total_marks >100 ):\n",
    " print(\"please enter the marks of each subject out of 20\")\n",
    "elif (total_marks <= 100) and (total_marks > 90 ):\n",
    " print(\"your grade is A+\")\n",
    "elif (total_marks > 80) and (total_marks <= 90 ):\n",
    " print(\"your grade is A\")\n",
    "elif (total_marks > 70) and (total_marks <= 80 ):\n",
    " print(\"your grade is B\")\n",
    "elif (total_marks > 60) and (total_marks <= 70 ):\n",
    " print(\"your grade is c\")\n",
    "elif (total_marks > 50) and (total_marks <= 60 ):\n",
    " print(\"your grade is c\")\n",
    "else: \n",
    " print(\"your grade is F\")\n",
    "    \n",
    "    \n",
    "\n"
   ]
  },
  {
   "cell_type": "code",
   "execution_count": null,
   "metadata": {},
   "outputs": [],
   "source": []
  }
 ],
 "metadata": {
  "kernelspec": {
   "display_name": "Python 3",
   "language": "python",
   "name": "python3"
  },
  "language_info": {
   "codemirror_mode": {
    "name": "ipython",
    "version": 3
   },
   "file_extension": ".py",
   "mimetype": "text/x-python",
   "name": "python",
   "nbconvert_exporter": "python",
   "pygments_lexer": "ipython3",
   "version": "3.7.6"
  }
 },
 "nbformat": 4,
 "nbformat_minor": 4
}
